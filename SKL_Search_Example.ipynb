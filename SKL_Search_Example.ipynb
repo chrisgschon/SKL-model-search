{
 "cells": [
  {
   "cell_type": "markdown",
   "metadata": {},
   "source": [
    "## Using SKL_Search.py\n",
    "\n",
    "In this notebook I demonstrate how to use the classes from SKL_search.py  to build an efficient, flexible pipeline for feature construction and model building with SKLearn. Full credit and appreciation to Panagiotis Katsaroumpas (https://github.com/codiply) for the core class in this code, EstimatorSelectionHelper, which he covers in his [blog post](http://www.codiply.com/blog/hyperparameter-grid-search-across-multiple-models-in-scikit-learn/). The example data is a binary classification problem of 20 pre-processed features from the [Predicting Poverty](https://www.drivendata.org/competitions/50/worldbank-poverty-prediction/page/97/) competition. The data and models themselves are unimportant, the code is more about the processes that it can automate. "
   ]
  },
  {
   "cell_type": "code",
   "execution_count": 2,
   "metadata": {},
   "outputs": [],
   "source": [
    "#standard imports\n",
    "import pandas as pd\n",
    "import numpy as np"
   ]
  },
  {
   "cell_type": "markdown",
   "metadata": {},
   "source": [
    "Import some models to search over"
   ]
  },
  {
   "cell_type": "code",
   "execution_count": 78,
   "metadata": {},
   "outputs": [],
   "source": [
    "from sklearn.tree import DecisionTreeClassifier\n",
    "from sklearn.tree import ExtraTreeClassifier\n",
    "from sklearn.ensemble import GradientBoostingClassifier, RandomForestClassifier, AdaBoostClassifier"
   ]
  },
  {
   "cell_type": "code",
   "execution_count": 79,
   "metadata": {},
   "outputs": [],
   "source": [
    "X = pd.read_csv('train_data.csv', index_col = 0)"
   ]
  },
  {
   "cell_type": "code",
   "execution_count": 80,
   "metadata": {},
   "outputs": [],
   "source": [
    "y = pd.read_csv('train_output.csv', index_col = 0)"
   ]
  },
  {
   "cell_type": "code",
   "execution_count": 81,
   "metadata": {},
   "outputs": [],
   "source": [
    "from SKL_search import *"
   ]
  },
  {
   "cell_type": "markdown",
   "metadata": {},
   "source": [
    "Use a pipeline for consistency and to make feature construction easily tunable. Here add preprocessing/other additional steps can be added to the pipeline for a more end-to-end process. In our case the data is 'clean' already. Typical pre-processing pipelines would involve dealing with categorical data and scaling numeric data. "
   ]
  },
  {
   "cell_type": "code",
   "execution_count": 82,
   "metadata": {},
   "outputs": [],
   "source": [
    "num_pca = 3\n",
    "num_kbest = 3\n",
    "thresh_fromMod = 0.1\n",
    "full_pipeline = Pipeline([\n",
    "                    ('features', \n",
    "                    FeatureUnion([('pca', PCAFeatureSelector(k = num_pca)), \n",
    "                                  ('kbest', KBestFeatureSelector(k = num_kbest, scorefunc = chi2)),\n",
    "                     ('fromMod', FromModelFeatureSelector(model = RandomForestClassifier(random_state = 4), threshold = thresh_fromMod))]))])"
   ]
  },
  {
   "cell_type": "markdown",
   "metadata": {},
   "source": [
    "If you want to create a training and test set, fit the transformation against the training set, but do *not* refit the transformation for the test set (this would be 'cheating'...). Use the same transformation as the traning set, which is easily done using pipeline fit and transform functionality. However, this is an aside, since the EstimatorSelectionHelper class can use cross validation, which is a preferable technique when possible. "
   ]
  },
  {
   "cell_type": "code",
   "execution_count": 83,
   "metadata": {},
   "outputs": [],
   "source": [
    "from sklearn.model_selection import train_test_split\n",
    "X_tr, X_test, Y_tr, Y_test = train_test_split(X, y, test_size = 0.2, random_state = 5)"
   ]
  },
  {
   "cell_type": "code",
   "execution_count": 84,
   "metadata": {},
   "outputs": [],
   "source": [
    "pipe_fit = full_pipeline.fit(X_tr,np.array(Y_tr).reshape(-1))"
   ]
  },
  {
   "cell_type": "code",
   "execution_count": 85,
   "metadata": {},
   "outputs": [],
   "source": [
    "X_tr_select = pipe_fit.transform(X_tr)"
   ]
  },
  {
   "cell_type": "code",
   "execution_count": 86,
   "metadata": {},
   "outputs": [],
   "source": [
    "X_test_select = pipe_fit.transform(X_test)"
   ]
  },
  {
   "cell_type": "markdown",
   "metadata": {},
   "source": [
    "For this example we will use the full data and allow the class to use cross validation for training. "
   ]
  },
  {
   "cell_type": "code",
   "execution_count": 87,
   "metadata": {},
   "outputs": [
    {
     "data": {
      "text/plain": [
       "(29913, 8)"
      ]
     },
     "execution_count": 87,
     "metadata": {},
     "output_type": "execute_result"
    }
   ],
   "source": [
    "X_select_full = full_pipeline.fit_transform(X,np.array(y).reshape(-1))\n",
    "X_select_full.shape"
   ]
  },
  {
   "cell_type": "code",
   "execution_count": 88,
   "metadata": {},
   "outputs": [],
   "source": [
    "from sklearn.ensemble import (ExtraTreesClassifier, RandomForestClassifier, \n",
    "                              AdaBoostClassifier, GradientBoostingClassifier)\n",
    "from sklearn.svm import SVC\n",
    "\n",
    "models1 = { \n",
    "    'RandomForestClassifier': RandomForestClassifier(),\n",
    "    'AdaBoostClassifier': AdaBoostClassifier(),\n",
    "    'GradientBoostingClassifier': GradientBoostingClassifier(),\n",
    "    'SVC': SVC(probability = True),\n",
    "}\n",
    "\n",
    "params1 = {  \n",
    "    'RandomForestClassifier': { 'n_estimators': [50, 100], 'max_depth':[5,10],\n",
    "                              'class_weight':['balanced']},\n",
    "    'AdaBoostClassifier':  { 'base_estimator':[RandomForestClassifier(min_samples_leaf = 10)], 'n_estimators': [10, 20], 'learning_rate':[1, 2] },\n",
    "    'GradientBoostingClassifier': { 'n_estimators': [100,200], 'learning_rate': [0.1,0.5] },\n",
    "    'SVC': [\n",
    "        {'kernel': ['linear'], 'C': [2.5,3], 'degree':[2,3]},\n",
    "        {'kernel': ['rbf'], 'C': [10, 20, 50]}],\n",
    "    \n",
    "}"
   ]
  },
  {
   "cell_type": "code",
   "execution_count": 74,
   "metadata": {},
   "outputs": [
    {
     "name": "stdout",
     "output_type": "stream",
     "text": [
      "Running GridSearchCV for RandomForestClassifier.\n",
      "Fitting 2 folds for each of 4 candidates, totalling 8 fits\n"
     ]
    },
    {
     "name": "stderr",
     "output_type": "stream",
     "text": [
      "[Parallel(n_jobs=-1)]: Done   3 out of   8 | elapsed:    2.8s remaining:    4.7s\n",
      "[Parallel(n_jobs=-1)]: Done   5 out of   8 | elapsed:    3.0s remaining:    1.7s\n",
      "[Parallel(n_jobs=-1)]: Done   8 out of   8 | elapsed:    4.6s finished\n"
     ]
    },
    {
     "name": "stdout",
     "output_type": "stream",
     "text": [
      "Running GridSearchCV for AdaBoostClassifier.\n",
      "Fitting 2 folds for each of 4 candidates, totalling 8 fits\n"
     ]
    },
    {
     "name": "stderr",
     "output_type": "stream",
     "text": [
      "[Parallel(n_jobs=-1)]: Done   3 out of   8 | elapsed:    6.5s remaining:   10.9s\n",
      "[Parallel(n_jobs=-1)]: Done   5 out of   8 | elapsed:    7.4s remaining:    4.4s\n",
      "[Parallel(n_jobs=-1)]: Done   8 out of   8 | elapsed:   11.7s finished\n"
     ]
    },
    {
     "name": "stdout",
     "output_type": "stream",
     "text": [
      "Running GridSearchCV for GradientBoostingClassifier.\n",
      "Fitting 2 folds for each of 4 candidates, totalling 8 fits\n"
     ]
    },
    {
     "name": "stderr",
     "output_type": "stream",
     "text": [
      "[Parallel(n_jobs=-1)]: Done   3 out of   8 | elapsed:    3.2s remaining:    5.4s\n",
      "[Parallel(n_jobs=-1)]: Done   5 out of   8 | elapsed:    3.6s remaining:    2.1s\n",
      "[Parallel(n_jobs=-1)]: Done   8 out of   8 | elapsed:    4.7s finished\n"
     ]
    },
    {
     "name": "stdout",
     "output_type": "stream",
     "text": [
      "Running GridSearchCV for SVC.\n",
      "Fitting 2 folds for each of 7 candidates, totalling 14 fits\n"
     ]
    },
    {
     "name": "stderr",
     "output_type": "stream",
     "text": [
      "[Parallel(n_jobs=-1)]: Done  10 out of  14 | elapsed:  1.9min remaining:   44.4s\n"
     ]
    },
    {
     "name": "stdout",
     "output_type": "stream",
     "text": [
      "Time taken for estimator selection search:  368.762\n"
     ]
    },
    {
     "name": "stderr",
     "output_type": "stream",
     "text": [
      "[Parallel(n_jobs=-1)]: Done  14 out of  14 | elapsed:  5.8min finished\n"
     ]
    }
   ],
   "source": [
    "import time\n",
    "start = time.time()\n",
    "helper1 = EstimatorSelectionHelper(models1, params1)\n",
    "helper1.fit(X_select_full, np.array(y).reshape(-1), scoring='accuracy', n_jobs=-1, cv = 2)\n",
    "time_taken = time.time()-start\n",
    "print('Time taken for estimator selection search: ', np.round(time_taken,1), ' seconds')"
   ]
  },
  {
   "cell_type": "markdown",
   "metadata": {},
   "source": [
    "Use the score summary method to display a useful dataframe summarising your findings. Update your features/parameters and keep firing away to find the perfect model!"
   ]
  },
  {
   "cell_type": "code",
   "execution_count": 77,
   "metadata": {},
   "outputs": [
    {
     "data": {
      "text/html": [
       "<div>\n",
       "<style scoped>\n",
       "    .dataframe tbody tr th:only-of-type {\n",
       "        vertical-align: middle;\n",
       "    }\n",
       "\n",
       "    .dataframe tbody tr th {\n",
       "        vertical-align: top;\n",
       "    }\n",
       "\n",
       "    .dataframe thead th {\n",
       "        text-align: right;\n",
       "    }\n",
       "</style>\n",
       "<table border=\"1\" class=\"dataframe\">\n",
       "  <thead>\n",
       "    <tr style=\"text-align: right;\">\n",
       "      <th></th>\n",
       "      <th>estimator</th>\n",
       "      <th>min_score</th>\n",
       "      <th>mean_score</th>\n",
       "      <th>max_score</th>\n",
       "      <th>std_score</th>\n",
       "      <th>C</th>\n",
       "      <th>base_estimator</th>\n",
       "      <th>class_weight</th>\n",
       "      <th>degree</th>\n",
       "      <th>kernel</th>\n",
       "      <th>learning_rate</th>\n",
       "      <th>max_depth</th>\n",
       "      <th>n_estimators</th>\n",
       "    </tr>\n",
       "  </thead>\n",
       "  <tbody>\n",
       "    <tr>\n",
       "      <th>18</th>\n",
       "      <td>SVC</td>\n",
       "      <td>0.764458</td>\n",
       "      <td>0.764484</td>\n",
       "      <td>0.764509</td>\n",
       "      <td>2.55569e-05</td>\n",
       "      <td>50</td>\n",
       "      <td>NaN</td>\n",
       "      <td>NaN</td>\n",
       "      <td>NaN</td>\n",
       "      <td>rbf</td>\n",
       "      <td>NaN</td>\n",
       "      <td>NaN</td>\n",
       "      <td>NaN</td>\n",
       "    </tr>\n",
       "    <tr>\n",
       "      <th>17</th>\n",
       "      <td>SVC</td>\n",
       "      <td>0.764458</td>\n",
       "      <td>0.764484</td>\n",
       "      <td>0.764509</td>\n",
       "      <td>2.55569e-05</td>\n",
       "      <td>20</td>\n",
       "      <td>NaN</td>\n",
       "      <td>NaN</td>\n",
       "      <td>NaN</td>\n",
       "      <td>rbf</td>\n",
       "      <td>NaN</td>\n",
       "      <td>NaN</td>\n",
       "      <td>NaN</td>\n",
       "    </tr>\n",
       "    <tr>\n",
       "      <th>16</th>\n",
       "      <td>SVC</td>\n",
       "      <td>0.764458</td>\n",
       "      <td>0.764484</td>\n",
       "      <td>0.764509</td>\n",
       "      <td>2.55569e-05</td>\n",
       "      <td>10</td>\n",
       "      <td>NaN</td>\n",
       "      <td>NaN</td>\n",
       "      <td>NaN</td>\n",
       "      <td>rbf</td>\n",
       "      <td>NaN</td>\n",
       "      <td>NaN</td>\n",
       "      <td>NaN</td>\n",
       "    </tr>\n",
       "    <tr>\n",
       "      <th>15</th>\n",
       "      <td>SVC</td>\n",
       "      <td>0.764458</td>\n",
       "      <td>0.764484</td>\n",
       "      <td>0.764509</td>\n",
       "      <td>2.55569e-05</td>\n",
       "      <td>3</td>\n",
       "      <td>NaN</td>\n",
       "      <td>NaN</td>\n",
       "      <td>3</td>\n",
       "      <td>linear</td>\n",
       "      <td>NaN</td>\n",
       "      <td>NaN</td>\n",
       "      <td>NaN</td>\n",
       "    </tr>\n",
       "    <tr>\n",
       "      <th>14</th>\n",
       "      <td>SVC</td>\n",
       "      <td>0.764458</td>\n",
       "      <td>0.764484</td>\n",
       "      <td>0.764509</td>\n",
       "      <td>2.55569e-05</td>\n",
       "      <td>3</td>\n",
       "      <td>NaN</td>\n",
       "      <td>NaN</td>\n",
       "      <td>2</td>\n",
       "      <td>linear</td>\n",
       "      <td>NaN</td>\n",
       "      <td>NaN</td>\n",
       "      <td>NaN</td>\n",
       "    </tr>\n",
       "    <tr>\n",
       "      <th>13</th>\n",
       "      <td>SVC</td>\n",
       "      <td>0.764458</td>\n",
       "      <td>0.764484</td>\n",
       "      <td>0.764509</td>\n",
       "      <td>2.55569e-05</td>\n",
       "      <td>2.5</td>\n",
       "      <td>NaN</td>\n",
       "      <td>NaN</td>\n",
       "      <td>3</td>\n",
       "      <td>linear</td>\n",
       "      <td>NaN</td>\n",
       "      <td>NaN</td>\n",
       "      <td>NaN</td>\n",
       "    </tr>\n",
       "    <tr>\n",
       "      <th>12</th>\n",
       "      <td>SVC</td>\n",
       "      <td>0.764458</td>\n",
       "      <td>0.764484</td>\n",
       "      <td>0.764509</td>\n",
       "      <td>2.55569e-05</td>\n",
       "      <td>2.5</td>\n",
       "      <td>NaN</td>\n",
       "      <td>NaN</td>\n",
       "      <td>2</td>\n",
       "      <td>linear</td>\n",
       "      <td>NaN</td>\n",
       "      <td>NaN</td>\n",
       "      <td>NaN</td>\n",
       "    </tr>\n",
       "    <tr>\n",
       "      <th>8</th>\n",
       "      <td>GradientBoostingClassifier</td>\n",
       "      <td>0.759377</td>\n",
       "      <td>0.760138</td>\n",
       "      <td>0.760899</td>\n",
       "      <td>0.000760878</td>\n",
       "      <td>NaN</td>\n",
       "      <td>NaN</td>\n",
       "      <td>NaN</td>\n",
       "      <td>NaN</td>\n",
       "      <td>NaN</td>\n",
       "      <td>0.1</td>\n",
       "      <td>NaN</td>\n",
       "      <td>100</td>\n",
       "    </tr>\n",
       "    <tr>\n",
       "      <th>9</th>\n",
       "      <td>GradientBoostingClassifier</td>\n",
       "      <td>0.755031</td>\n",
       "      <td>0.755056</td>\n",
       "      <td>0.755082</td>\n",
       "      <td>2.52417e-05</td>\n",
       "      <td>NaN</td>\n",
       "      <td>NaN</td>\n",
       "      <td>NaN</td>\n",
       "      <td>NaN</td>\n",
       "      <td>NaN</td>\n",
       "      <td>0.1</td>\n",
       "      <td>NaN</td>\n",
       "      <td>200</td>\n",
       "    </tr>\n",
       "    <tr>\n",
       "      <th>5</th>\n",
       "      <td>AdaBoostClassifier</td>\n",
       "      <td>0.748412</td>\n",
       "      <td>0.751747</td>\n",
       "      <td>0.755082</td>\n",
       "      <td>0.00333473</td>\n",
       "      <td>NaN</td>\n",
       "      <td>RandomForestClassifier(bootstrap=True, class_w...</td>\n",
       "      <td>NaN</td>\n",
       "      <td>NaN</td>\n",
       "      <td>NaN</td>\n",
       "      <td>1</td>\n",
       "      <td>NaN</td>\n",
       "      <td>20</td>\n",
       "    </tr>\n",
       "    <tr>\n",
       "      <th>7</th>\n",
       "      <td>AdaBoostClassifier</td>\n",
       "      <td>0.745738</td>\n",
       "      <td>0.751446</td>\n",
       "      <td>0.757154</td>\n",
       "      <td>0.00570827</td>\n",
       "      <td>NaN</td>\n",
       "      <td>RandomForestClassifier(bootstrap=True, class_w...</td>\n",
       "      <td>NaN</td>\n",
       "      <td>NaN</td>\n",
       "      <td>NaN</td>\n",
       "      <td>2</td>\n",
       "      <td>NaN</td>\n",
       "      <td>20</td>\n",
       "    </tr>\n",
       "    <tr>\n",
       "      <th>4</th>\n",
       "      <td>AdaBoostClassifier</td>\n",
       "      <td>0.7442</td>\n",
       "      <td>0.750711</td>\n",
       "      <td>0.757221</td>\n",
       "      <td>0.00651057</td>\n",
       "      <td>NaN</td>\n",
       "      <td>RandomForestClassifier(bootstrap=True, class_w...</td>\n",
       "      <td>NaN</td>\n",
       "      <td>NaN</td>\n",
       "      <td>NaN</td>\n",
       "      <td>1</td>\n",
       "      <td>NaN</td>\n",
       "      <td>10</td>\n",
       "    </tr>\n",
       "    <tr>\n",
       "      <th>6</th>\n",
       "      <td>AdaBoostClassifier</td>\n",
       "      <td>0.73825</td>\n",
       "      <td>0.746365</td>\n",
       "      <td>0.75448</td>\n",
       "      <td>0.00811508</td>\n",
       "      <td>NaN</td>\n",
       "      <td>RandomForestClassifier(bootstrap=True, class_w...</td>\n",
       "      <td>NaN</td>\n",
       "      <td>NaN</td>\n",
       "      <td>NaN</td>\n",
       "      <td>2</td>\n",
       "      <td>NaN</td>\n",
       "      <td>10</td>\n",
       "    </tr>\n",
       "    <tr>\n",
       "      <th>10</th>\n",
       "      <td>GradientBoostingClassifier</td>\n",
       "      <td>0.725279</td>\n",
       "      <td>0.725537</td>\n",
       "      <td>0.725796</td>\n",
       "      <td>0.000258267</td>\n",
       "      <td>NaN</td>\n",
       "      <td>NaN</td>\n",
       "      <td>NaN</td>\n",
       "      <td>NaN</td>\n",
       "      <td>NaN</td>\n",
       "      <td>0.5</td>\n",
       "      <td>NaN</td>\n",
       "      <td>100</td>\n",
       "    </tr>\n",
       "    <tr>\n",
       "      <th>11</th>\n",
       "      <td>GradientBoostingClassifier</td>\n",
       "      <td>0.70803</td>\n",
       "      <td>0.711497</td>\n",
       "      <td>0.714964</td>\n",
       "      <td>0.0034671</td>\n",
       "      <td>NaN</td>\n",
       "      <td>NaN</td>\n",
       "      <td>NaN</td>\n",
       "      <td>NaN</td>\n",
       "      <td>NaN</td>\n",
       "      <td>0.5</td>\n",
       "      <td>NaN</td>\n",
       "      <td>200</td>\n",
       "    </tr>\n",
       "    <tr>\n",
       "      <th>3</th>\n",
       "      <td>RandomForestClassifier</td>\n",
       "      <td>0.652537</td>\n",
       "      <td>0.660415</td>\n",
       "      <td>0.668294</td>\n",
       "      <td>0.00787819</td>\n",
       "      <td>NaN</td>\n",
       "      <td>NaN</td>\n",
       "      <td>balanced</td>\n",
       "      <td>NaN</td>\n",
       "      <td>NaN</td>\n",
       "      <td>NaN</td>\n",
       "      <td>10</td>\n",
       "      <td>100</td>\n",
       "    </tr>\n",
       "    <tr>\n",
       "      <th>2</th>\n",
       "      <td>RandomForestClassifier</td>\n",
       "      <td>0.648191</td>\n",
       "      <td>0.657106</td>\n",
       "      <td>0.66602</td>\n",
       "      <td>0.00891442</td>\n",
       "      <td>NaN</td>\n",
       "      <td>NaN</td>\n",
       "      <td>balanced</td>\n",
       "      <td>NaN</td>\n",
       "      <td>NaN</td>\n",
       "      <td>NaN</td>\n",
       "      <td>10</td>\n",
       "      <td>50</td>\n",
       "    </tr>\n",
       "    <tr>\n",
       "      <th>0</th>\n",
       "      <td>RandomForestClassifier</td>\n",
       "      <td>0.594036</td>\n",
       "      <td>0.613012</td>\n",
       "      <td>0.631987</td>\n",
       "      <td>0.0189755</td>\n",
       "      <td>NaN</td>\n",
       "      <td>NaN</td>\n",
       "      <td>balanced</td>\n",
       "      <td>NaN</td>\n",
       "      <td>NaN</td>\n",
       "      <td>NaN</td>\n",
       "      <td>5</td>\n",
       "      <td>50</td>\n",
       "    </tr>\n",
       "    <tr>\n",
       "      <th>1</th>\n",
       "      <td>RandomForestClassifier</td>\n",
       "      <td>0.57224</td>\n",
       "      <td>0.603785</td>\n",
       "      <td>0.63533</td>\n",
       "      <td>0.0315449</td>\n",
       "      <td>NaN</td>\n",
       "      <td>NaN</td>\n",
       "      <td>balanced</td>\n",
       "      <td>NaN</td>\n",
       "      <td>NaN</td>\n",
       "      <td>NaN</td>\n",
       "      <td>5</td>\n",
       "      <td>100</td>\n",
       "    </tr>\n",
       "  </tbody>\n",
       "</table>\n",
       "</div>"
      ],
      "text/plain": [
       "                     estimator min_score mean_score max_score    std_score  \\\n",
       "18                         SVC  0.764458   0.764484  0.764509  2.55569e-05   \n",
       "17                         SVC  0.764458   0.764484  0.764509  2.55569e-05   \n",
       "16                         SVC  0.764458   0.764484  0.764509  2.55569e-05   \n",
       "15                         SVC  0.764458   0.764484  0.764509  2.55569e-05   \n",
       "14                         SVC  0.764458   0.764484  0.764509  2.55569e-05   \n",
       "13                         SVC  0.764458   0.764484  0.764509  2.55569e-05   \n",
       "12                         SVC  0.764458   0.764484  0.764509  2.55569e-05   \n",
       "8   GradientBoostingClassifier  0.759377   0.760138  0.760899  0.000760878   \n",
       "9   GradientBoostingClassifier  0.755031   0.755056  0.755082  2.52417e-05   \n",
       "5           AdaBoostClassifier  0.748412   0.751747  0.755082   0.00333473   \n",
       "7           AdaBoostClassifier  0.745738   0.751446  0.757154   0.00570827   \n",
       "4           AdaBoostClassifier    0.7442   0.750711  0.757221   0.00651057   \n",
       "6           AdaBoostClassifier   0.73825   0.746365   0.75448   0.00811508   \n",
       "10  GradientBoostingClassifier  0.725279   0.725537  0.725796  0.000258267   \n",
       "11  GradientBoostingClassifier   0.70803   0.711497  0.714964    0.0034671   \n",
       "3       RandomForestClassifier  0.652537   0.660415  0.668294   0.00787819   \n",
       "2       RandomForestClassifier  0.648191   0.657106   0.66602   0.00891442   \n",
       "0       RandomForestClassifier  0.594036   0.613012  0.631987    0.0189755   \n",
       "1       RandomForestClassifier   0.57224   0.603785   0.63533    0.0315449   \n",
       "\n",
       "      C                                     base_estimator class_weight  \\\n",
       "18   50                                                NaN          NaN   \n",
       "17   20                                                NaN          NaN   \n",
       "16   10                                                NaN          NaN   \n",
       "15    3                                                NaN          NaN   \n",
       "14    3                                                NaN          NaN   \n",
       "13  2.5                                                NaN          NaN   \n",
       "12  2.5                                                NaN          NaN   \n",
       "8   NaN                                                NaN          NaN   \n",
       "9   NaN                                                NaN          NaN   \n",
       "5   NaN  RandomForestClassifier(bootstrap=True, class_w...          NaN   \n",
       "7   NaN  RandomForestClassifier(bootstrap=True, class_w...          NaN   \n",
       "4   NaN  RandomForestClassifier(bootstrap=True, class_w...          NaN   \n",
       "6   NaN  RandomForestClassifier(bootstrap=True, class_w...          NaN   \n",
       "10  NaN                                                NaN          NaN   \n",
       "11  NaN                                                NaN          NaN   \n",
       "3   NaN                                                NaN     balanced   \n",
       "2   NaN                                                NaN     balanced   \n",
       "0   NaN                                                NaN     balanced   \n",
       "1   NaN                                                NaN     balanced   \n",
       "\n",
       "   degree  kernel learning_rate max_depth n_estimators  \n",
       "18    NaN     rbf           NaN       NaN          NaN  \n",
       "17    NaN     rbf           NaN       NaN          NaN  \n",
       "16    NaN     rbf           NaN       NaN          NaN  \n",
       "15      3  linear           NaN       NaN          NaN  \n",
       "14      2  linear           NaN       NaN          NaN  \n",
       "13      3  linear           NaN       NaN          NaN  \n",
       "12      2  linear           NaN       NaN          NaN  \n",
       "8     NaN     NaN           0.1       NaN          100  \n",
       "9     NaN     NaN           0.1       NaN          200  \n",
       "5     NaN     NaN             1       NaN           20  \n",
       "7     NaN     NaN             2       NaN           20  \n",
       "4     NaN     NaN             1       NaN           10  \n",
       "6     NaN     NaN             2       NaN           10  \n",
       "10    NaN     NaN           0.5       NaN          100  \n",
       "11    NaN     NaN           0.5       NaN          200  \n",
       "3     NaN     NaN           NaN        10          100  \n",
       "2     NaN     NaN           NaN        10           50  \n",
       "0     NaN     NaN           NaN         5           50  \n",
       "1     NaN     NaN           NaN         5          100  "
      ]
     },
     "execution_count": 77,
     "metadata": {},
     "output_type": "execute_result"
    }
   ],
   "source": [
    "helper1.score_summary(sort_by='min_score')"
   ]
  }
 ],
 "metadata": {
  "kernelspec": {
   "display_name": "Python 3",
   "language": "python",
   "name": "python3"
  },
  "language_info": {
   "codemirror_mode": {
    "name": "ipython",
    "version": 3
   },
   "file_extension": ".py",
   "mimetype": "text/x-python",
   "name": "python",
   "nbconvert_exporter": "python",
   "pygments_lexer": "ipython3",
   "version": "3.6.3"
  }
 },
 "nbformat": 4,
 "nbformat_minor": 2
}
